{
  "cells": [
    {
      "cell_type": "markdown",
      "metadata": {
        "id": "z3BCMQZxQgAh"
      },
      "source": [
        "#Solving QUBOs with Qiskit-Optimization QAOA\n",
        "\n",
        "Date: December 4th, 2023\n",
        "\n",
        "The notebook contains materials supporting the tutorial paper:\n",
        "*Five Starter Pieces: Solving QUBOs on Quantum Computers* by Arul Rhik Mazumder (arulm@andrew.cmu.edu) and Sridhar Tayur (stayur@cmu.edu).\n",
        "It depends on various packages shown below."
      ]
    },
    {
      "cell_type": "markdown",
      "metadata": {
        "id": "3x_6O3MSSu2N"
      },
      "source": [
        "### **Introduction**\n",
        "\n",
        "Qiskit-Optimization is a part of IBM Qiskit's open source quantum computing framework. It provides easy high-level applications of quantum algorithms that can run on both classical and quantum simulators. It provides a wide array of algorithms and built-in application classes for NP-Hard problems. For this paper, we only focus on QAOA and ignore the built-in application classes to take advantage of the its docplex modelling capabilities. By defining custom QUBOs instead of relying on predefined classes, users can more easily implement and solve their own QUBO models using qiskit-opimization.\n",
        "\n",
        "Qiskit-Optimization is an extremely useful and easy way to solve QUBOs with various quantum algorithms including Variational Quantum Eigensolver, Adaptive Grovers and the earlier mentioned QAOA. Furthermore because of compatibility with IBMQ, algorithms can run on actual IBM quantum backends. In the examples below, all code is run by default on the Qiskit QASM simulator. Although base level implementation is easier, customization and indepth analysis in more difficult. Tasks like plotting optimization history or bitstring distributions, although possible, are significantly more challenging. Qiskit-Optimization's key limitations are its extremely long optimization times and limited set of optimizers.  It is almost extremely slow in solving QUBOs with over 10 variables and was measured to take almost 45 minutes for a QUBO with only 18 variables however is extremely accurate. Furthermore there is a defined set optimizers shown below:\n",
        "\n",
        "https://qiskit.org/documentation/stubs/qiskit.algorithms.optimizers.html\n",
        "\n",
        "Although there is an a pretty expansive set of local and global optimizers it is impossible to use any optimizer not listed here. Thus it is impossible to implement many promising algorithms like Adagrad and Genetic Algorithm as classical optimizers.\n",
        "\n",
        "Using Qiskit Runtime further customization such as error mitigation, custom ansatz circuits, and custom cost hamiltonians are possible, but require more advanced knowledge. More information is provided in the link below:\n",
        "\n",
        "https://qiskit.org/ecosystem/optimization/tutorials/12_qaoa_runtime.html"
      ]
    },
    {
      "cell_type": "code",
      "execution_count": null,
      "metadata": {
        "colab": {
          "base_uri": "https://localhost:8080/"
        },
        "id": "wiJd54ECtk_P",
        "outputId": "0ab3a5eb-6deb-4505-8ecc-b234b6505e18"
      },
      "outputs": [
        {
          "output_type": "stream",
          "name": "stdout",
          "text": [
            "Collecting qiskit\n",
            "  Downloading qiskit-0.44.1-py3-none-any.whl (8.2 kB)\n",
            "Collecting qiskit-terra==0.25.1 (from qiskit)\n",
            "  Downloading qiskit_terra-0.25.1-cp38-abi3-manylinux_2_17_x86_64.manylinux2014_x86_64.whl (6.1 MB)\n",
            "\u001b[2K     \u001b[90m━━━━━━━━━━━━━━━━━━━━━━━━━━━━━━━━━━━━━━━━\u001b[0m \u001b[32m6.1/6.1 MB\u001b[0m \u001b[31m39.4 MB/s\u001b[0m eta \u001b[36m0:00:00\u001b[0m\n",
            "\u001b[?25hCollecting rustworkx>=0.13.0 (from qiskit-terra==0.25.1->qiskit)\n",
            "  Downloading rustworkx-0.13.1-cp310-cp310-manylinux_2_17_x86_64.manylinux2014_x86_64.whl (2.0 MB)\n",
            "\u001b[2K     \u001b[90m━━━━━━━━━━━━━━━━━━━━━━━━━━━━━━━━━━━━━━━━\u001b[0m \u001b[32m2.0/2.0 MB\u001b[0m \u001b[31m58.9 MB/s\u001b[0m eta \u001b[36m0:00:00\u001b[0m\n",
            "\u001b[?25hRequirement already satisfied: numpy>=1.17 in /usr/local/lib/python3.10/dist-packages (from qiskit-terra==0.25.1->qiskit) (1.23.5)\n",
            "Collecting ply>=3.10 (from qiskit-terra==0.25.1->qiskit)\n",
            "  Downloading ply-3.11-py2.py3-none-any.whl (49 kB)\n",
            "\u001b[2K     \u001b[90m━━━━━━━━━━━━━━━━━━━━━━━━━━━━━━━━━━━━━━━━\u001b[0m \u001b[32m49.6/49.6 kB\u001b[0m \u001b[31m5.1 MB/s\u001b[0m eta \u001b[36m0:00:00\u001b[0m\n",
            "\u001b[?25hRequirement already satisfied: psutil>=5 in /usr/local/lib/python3.10/dist-packages (from qiskit-terra==0.25.1->qiskit) (5.9.5)\n",
            "Requirement already satisfied: scipy>=1.5 in /usr/local/lib/python3.10/dist-packages (from qiskit-terra==0.25.1->qiskit) (1.11.2)\n",
            "Requirement already satisfied: sympy>=1.3 in /usr/local/lib/python3.10/dist-packages (from qiskit-terra==0.25.1->qiskit) (1.12)\n",
            "Collecting dill>=0.3 (from qiskit-terra==0.25.1->qiskit)\n",
            "  Downloading dill-0.3.7-py3-none-any.whl (115 kB)\n",
            "\u001b[2K     \u001b[90m━━━━━━━━━━━━━━━━━━━━━━━━━━━━━━━━━━━━━━\u001b[0m \u001b[32m115.3/115.3 kB\u001b[0m \u001b[31m13.3 MB/s\u001b[0m eta \u001b[36m0:00:00\u001b[0m\n",
            "\u001b[?25hRequirement already satisfied: python-dateutil>=2.8.0 in /usr/local/lib/python3.10/dist-packages (from qiskit-terra==0.25.1->qiskit) (2.8.2)\n",
            "Collecting stevedore>=3.0.0 (from qiskit-terra==0.25.1->qiskit)\n",
            "  Downloading stevedore-5.1.0-py3-none-any.whl (49 kB)\n",
            "\u001b[2K     \u001b[90m━━━━━━━━━━━━━━━━━━━━━━━━━━━━━━━━━━━━━━━━\u001b[0m \u001b[32m49.6/49.6 kB\u001b[0m \u001b[31m3.9 MB/s\u001b[0m eta \u001b[36m0:00:00\u001b[0m\n",
            "\u001b[?25hCollecting symengine<0.10,>=0.9 (from qiskit-terra==0.25.1->qiskit)\n",
            "  Downloading symengine-0.9.2-cp310-cp310-manylinux2010_x86_64.whl (37.5 MB)\n",
            "\u001b[2K     \u001b[90m━━━━━━━━━━━━━━━━━━━━━━━━━━━━━━━━━━━━━━━━\u001b[0m \u001b[32m37.5/37.5 MB\u001b[0m \u001b[31m25.7 MB/s\u001b[0m eta \u001b[36m0:00:00\u001b[0m\n",
            "\u001b[?25hRequirement already satisfied: typing-extensions in /usr/local/lib/python3.10/dist-packages (from qiskit-terra==0.25.1->qiskit) (4.5.0)\n",
            "Requirement already satisfied: six>=1.5 in /usr/local/lib/python3.10/dist-packages (from python-dateutil>=2.8.0->qiskit-terra==0.25.1->qiskit) (1.16.0)\n",
            "Collecting pbr!=2.1.0,>=2.0.0 (from stevedore>=3.0.0->qiskit-terra==0.25.1->qiskit)\n",
            "  Downloading pbr-5.11.1-py2.py3-none-any.whl (112 kB)\n",
            "\u001b[2K     \u001b[90m━━━━━━━━━━━━━━━━━━━━━━━━━━━━━━━━━━━━━━\u001b[0m \u001b[32m112.7/112.7 kB\u001b[0m \u001b[31m11.7 MB/s\u001b[0m eta \u001b[36m0:00:00\u001b[0m\n",
            "\u001b[?25hRequirement already satisfied: mpmath>=0.19 in /usr/local/lib/python3.10/dist-packages (from sympy>=1.3->qiskit-terra==0.25.1->qiskit) (1.3.0)\n",
            "Installing collected packages: ply, symengine, rustworkx, pbr, dill, stevedore, qiskit-terra, qiskit\n",
            "Successfully installed dill-0.3.7 pbr-5.11.1 ply-3.11 qiskit-0.44.1 qiskit-terra-0.25.1 rustworkx-0.13.1 stevedore-5.1.0 symengine-0.9.2\n",
            "Collecting qiskit-algorithms\n",
            "  Downloading qiskit_algorithms-0.2.1-py3-none-any.whl (306 kB)\n",
            "\u001b[2K     \u001b[90m━━━━━━━━━━━━━━━━━━━━━━━━━━━━━━━━━━━━━━━\u001b[0m \u001b[32m306.9/306.9 kB\u001b[0m \u001b[31m5.6 MB/s\u001b[0m eta \u001b[36m0:00:00\u001b[0m\n",
            "\u001b[?25hRequirement already satisfied: qiskit-terra>=0.24 in /usr/local/lib/python3.10/dist-packages (from qiskit-algorithms) (0.25.1)\n",
            "Requirement already satisfied: scipy>=1.4 in /usr/local/lib/python3.10/dist-packages (from qiskit-algorithms) (1.11.2)\n",
            "Requirement already satisfied: numpy>=1.17 in /usr/local/lib/python3.10/dist-packages (from qiskit-algorithms) (1.23.5)\n",
            "Requirement already satisfied: rustworkx>=0.13.0 in /usr/local/lib/python3.10/dist-packages (from qiskit-terra>=0.24->qiskit-algorithms) (0.13.1)\n",
            "Requirement already satisfied: ply>=3.10 in /usr/local/lib/python3.10/dist-packages (from qiskit-terra>=0.24->qiskit-algorithms) (3.11)\n",
            "Requirement already satisfied: psutil>=5 in /usr/local/lib/python3.10/dist-packages (from qiskit-terra>=0.24->qiskit-algorithms) (5.9.5)\n",
            "Requirement already satisfied: sympy>=1.3 in /usr/local/lib/python3.10/dist-packages (from qiskit-terra>=0.24->qiskit-algorithms) (1.12)\n",
            "Requirement already satisfied: dill>=0.3 in /usr/local/lib/python3.10/dist-packages (from qiskit-terra>=0.24->qiskit-algorithms) (0.3.7)\n",
            "Requirement already satisfied: python-dateutil>=2.8.0 in /usr/local/lib/python3.10/dist-packages (from qiskit-terra>=0.24->qiskit-algorithms) (2.8.2)\n",
            "Requirement already satisfied: stevedore>=3.0.0 in /usr/local/lib/python3.10/dist-packages (from qiskit-terra>=0.24->qiskit-algorithms) (5.1.0)\n",
            "Requirement already satisfied: symengine<0.10,>=0.9 in /usr/local/lib/python3.10/dist-packages (from qiskit-terra>=0.24->qiskit-algorithms) (0.9.2)\n",
            "Requirement already satisfied: typing-extensions in /usr/local/lib/python3.10/dist-packages (from qiskit-terra>=0.24->qiskit-algorithms) (4.5.0)\n",
            "Requirement already satisfied: six>=1.5 in /usr/local/lib/python3.10/dist-packages (from python-dateutil>=2.8.0->qiskit-terra>=0.24->qiskit-algorithms) (1.16.0)\n",
            "Requirement already satisfied: pbr!=2.1.0,>=2.0.0 in /usr/local/lib/python3.10/dist-packages (from stevedore>=3.0.0->qiskit-terra>=0.24->qiskit-algorithms) (5.11.1)\n",
            "Requirement already satisfied: mpmath>=0.19 in /usr/local/lib/python3.10/dist-packages (from sympy>=1.3->qiskit-terra>=0.24->qiskit-algorithms) (1.3.0)\n",
            "Installing collected packages: qiskit-algorithms\n",
            "Successfully installed qiskit-algorithms-0.2.1\n",
            "Collecting qiskit-optimization\n",
            "  Downloading qiskit_optimization-0.5.0-py3-none-any.whl (156 kB)\n",
            "\u001b[2K     \u001b[90m━━━━━━━━━━━━━━━━━━━━━━━━━━━━━━━━━━━━━━━\u001b[0m \u001b[32m156.5/156.5 kB\u001b[0m \u001b[31m3.7 MB/s\u001b[0m eta \u001b[36m0:00:00\u001b[0m\n",
            "\u001b[?25hRequirement already satisfied: qiskit-terra>=0.22.4 in /usr/local/lib/python3.10/dist-packages (from qiskit-optimization) (0.25.1)\n",
            "Requirement already satisfied: scipy>=1.4 in /usr/local/lib/python3.10/dist-packages (from qiskit-optimization) (1.11.2)\n",
            "Requirement already satisfied: numpy>=1.17 in /usr/local/lib/python3.10/dist-packages (from qiskit-optimization) (1.23.5)\n",
            "Collecting docplex!=2.24.231,>=2.21.207 (from qiskit-optimization)\n",
            "  Downloading docplex-2.25.236.tar.gz (633 kB)\n",
            "\u001b[2K     \u001b[90m━━━━━━━━━━━━━━━━━━━━━━━━━━━━━━━━━━━━━━\u001b[0m \u001b[32m633.5/633.5 kB\u001b[0m \u001b[31m23.1 MB/s\u001b[0m eta \u001b[36m0:00:00\u001b[0m\n",
            "\u001b[?25h  Preparing metadata (setup.py) ... \u001b[?25l\u001b[?25hdone\n",
            "Requirement already satisfied: setuptools>=40.1.0 in /usr/local/lib/python3.10/dist-packages (from qiskit-optimization) (67.7.2)\n",
            "Requirement already satisfied: networkx>=2.6.3 in /usr/local/lib/python3.10/dist-packages (from qiskit-optimization) (3.1)\n",
            "Requirement already satisfied: six in /usr/local/lib/python3.10/dist-packages (from docplex!=2.24.231,>=2.21.207->qiskit-optimization) (1.16.0)\n",
            "Requirement already satisfied: rustworkx>=0.13.0 in /usr/local/lib/python3.10/dist-packages (from qiskit-terra>=0.22.4->qiskit-optimization) (0.13.1)\n",
            "Requirement already satisfied: ply>=3.10 in /usr/local/lib/python3.10/dist-packages (from qiskit-terra>=0.22.4->qiskit-optimization) (3.11)\n",
            "Requirement already satisfied: psutil>=5 in /usr/local/lib/python3.10/dist-packages (from qiskit-terra>=0.22.4->qiskit-optimization) (5.9.5)\n",
            "Requirement already satisfied: sympy>=1.3 in /usr/local/lib/python3.10/dist-packages (from qiskit-terra>=0.22.4->qiskit-optimization) (1.12)\n",
            "Requirement already satisfied: dill>=0.3 in /usr/local/lib/python3.10/dist-packages (from qiskit-terra>=0.22.4->qiskit-optimization) (0.3.7)\n",
            "Requirement already satisfied: python-dateutil>=2.8.0 in /usr/local/lib/python3.10/dist-packages (from qiskit-terra>=0.22.4->qiskit-optimization) (2.8.2)\n",
            "Requirement already satisfied: stevedore>=3.0.0 in /usr/local/lib/python3.10/dist-packages (from qiskit-terra>=0.22.4->qiskit-optimization) (5.1.0)\n",
            "Requirement already satisfied: symengine<0.10,>=0.9 in /usr/local/lib/python3.10/dist-packages (from qiskit-terra>=0.22.4->qiskit-optimization) (0.9.2)\n",
            "Requirement already satisfied: typing-extensions in /usr/local/lib/python3.10/dist-packages (from qiskit-terra>=0.22.4->qiskit-optimization) (4.5.0)\n",
            "Requirement already satisfied: pbr!=2.1.0,>=2.0.0 in /usr/local/lib/python3.10/dist-packages (from stevedore>=3.0.0->qiskit-terra>=0.22.4->qiskit-optimization) (5.11.1)\n",
            "Requirement already satisfied: mpmath>=0.19 in /usr/local/lib/python3.10/dist-packages (from sympy>=1.3->qiskit-terra>=0.22.4->qiskit-optimization) (1.3.0)\n",
            "Building wheels for collected packages: docplex\n",
            "  Building wheel for docplex (setup.py) ... \u001b[?25l\u001b[?25hdone\n",
            "  Created wheel for docplex: filename=docplex-2.25.236-py3-none-any.whl size=671349 sha256=7214db89a72f50a4b3c221c798312d35148bbaded47b4b9eda8fba2c04daa0d2\n",
            "  Stored in directory: /root/.cache/pip/wheels/3b/e5/00/0bf0173d67188fe73a13e3a61412b3f975f60205e3fab93a69\n",
            "Successfully built docplex\n",
            "Installing collected packages: docplex, qiskit-optimization\n",
            "Successfully installed docplex-2.25.236 qiskit-optimization-0.5.0\n",
            "All Packages Installed!\n"
          ]
        }
      ],
      "source": [
        "try:\n",
        "  import google.colab\n",
        "  IN_COLAB = True\n",
        "except:\n",
        "  IN_COLAB = False\n",
        "\n",
        "if IN_COLAB:\n",
        " !pip install qiskit\n",
        " !pip install qiskit-algorithms\n",
        " !pip install qiskit-optimization\n",
        " print(\"All Packages Installed!\")"
      ]
    },
    {
      "cell_type": "code",
      "execution_count": null,
      "metadata": {
        "id": "KMuyWRvYuE2C"
      },
      "outputs": [],
      "source": [
        "# Problem Modelling Imports\n",
        "from qiskit_optimization.converters.quadratic_program_to_qubo import QuadraticProgramToQubo\n",
        "from qiskit_optimization.translators import from_docplex_mp\n",
        "from docplex.mp.model import Model\n",
        "\n",
        "# Qiskit Optimizer Imports\n",
        "from qiskit_optimization.algorithms import MinimumEigenOptimizer\n",
        "from qiskit.algorithms.minimum_eigensolvers import QAOA\n",
        "from qiskit.algorithms.optimizers import SPSA, COBYLA, NELDER_MEAD\n",
        "\n",
        "from qiskit.primitives import Sampler\n",
        "\n",
        "# Misc. Imports\n",
        "import time\n",
        "import matplotlib.pyplot as plt"
      ]
    },
    {
      "cell_type": "markdown",
      "metadata": {
        "id": "QT0RlN3Nu34n"
      },
      "source": [
        "### **Example 1 - Number Partitioning Problem**"
      ]
    },
    {
      "cell_type": "code",
      "execution_count": null,
      "metadata": {
        "id": "koMoUbw_Dhpj"
      },
      "outputs": [],
      "source": [
        "test_1 = [1, 7, 10, 18]\n",
        "test_2 = [11, 29, 21, 17, 32, 10]\n",
        "test_3 = [25, 7, 13, 31, 42, 17, 21, 10]"
      ]
    },
    {
      "cell_type": "code",
      "execution_count": null,
      "metadata": {
        "id": "VtJopEqBuAXD"
      },
      "outputs": [],
      "source": [
        "arr = test_2\n",
        "n = len(arr)\n",
        "c = sum(arr)"
      ]
    },
    {
      "cell_type": "markdown",
      "source": [
        "**Number Partitioning Models**\n",
        "\n",
        "Given an array of $n$ integers $[a_{1}, a_{2}, a_{3} ... a_{n}]$, the corresponding Ising Hamiltonian is:\n",
        "\n",
        "$$H=(\\sum_{i=1}^{n}a_{i}s_{i})^2$$\n",
        "\n",
        "Where $s_{i} \\in \\{-1,1\\}$ is the Ising spin variable.\n",
        "\n",
        "Similarly the corresponding QUBO Model is:\n",
        "\n",
        "$$Q=(\\sum_{i=1}^{n}a_{i}-2\\sum_{i=1}^{n}a_{i}x_{i})^{2}$$\n",
        "or\n",
        "$$Q=(c-2\\sum_{i=1}^{n}a_{i}x_{i})^{2}$$\n",
        "\n",
        "Where $c=\\sum_{i=1}^{n}a_{i}$ and $x_{i} \\in \\{0, 1\\}$ is a binary quadratic variable."
      ],
      "metadata": {
        "id": "edicdR6xsd8D"
      }
    },
    {
      "cell_type": "code",
      "execution_count": null,
      "metadata": {
        "id": "zpqELeN_uH8c"
      },
      "outputs": [],
      "source": [
        "model = Model()\n",
        "x = model.binary_var_list(n)\n",
        "Q = (c - 2*sum(arr[i]*x[i] for i in range(n)))**2\n",
        "model.minimize(Q)\n",
        "problem = from_docplex_mp(model)\n",
        "qubo = QuadraticProgramToQubo().convert(problem)"
      ]
    },
    {
      "cell_type": "markdown",
      "source": [
        "**Solving the QUBO**\n",
        "\n",
        "This algorithm uses the Simultaneous Perturbation Stochastic Approximation (SPSA) optimizers. It is one of the gradient-free optimization algorithms offered by Qiskit-Optimization and is well suited uncertain or noisy objective functions. In this SPSA is run for a maximum of 250 iterations\n",
        "\n",
        "The sampler reference the base sampler used by Qiskit. This sampler finds the probability of bitstring solutions. Finally the QAOA uses the optimizer and sampler to create the quantum circuit to run on the QASM Simulator. You can further specify the number of reps which describes the number of iterations of cost and mixer hamiltonians. In this example and all following circuits, this has been set to $p=2$.\n",
        "\n",
        "The Minimum Eigen Optimizer converts the QUBO problems to Ising Model and then solves it using the quantum circuit defined before.\n"
      ],
      "metadata": {
        "id": "tEhB8LSGT2Te"
      }
    },
    {
      "cell_type": "code",
      "execution_count": null,
      "metadata": {
        "id": "9YMGlAnAuwjk"
      },
      "outputs": [],
      "source": [
        "spsa = SPSA(maxiter=250)\n",
        "sampler = Sampler()\n",
        "qaoa = QAOA(sampler=sampler, optimizer=spsa, reps=2)\n",
        "algorithm = MinimumEigenOptimizer(qaoa)"
      ]
    },
    {
      "cell_type": "code",
      "execution_count": null,
      "metadata": {
        "id": "xxTefOBpvM9h"
      },
      "outputs": [],
      "source": [
        "result = algorithm.solve(problem)\n",
        "#print(result.prettyprint())\n",
        "elapsed_time = result.min_eigen_solver_result.optimizer_time"
      ]
    },
    {
      "cell_type": "code",
      "execution_count": null,
      "metadata": {
        "id": "Nvoo4LDmvRDk"
      },
      "outputs": [],
      "source": [
        "# Converting the output binary variables to produce a valid output\n",
        "def partition(binary_dict):\n",
        "    P1 = []\n",
        "    P2 = []\n",
        "    for key, value in binary_dict.items():\n",
        "        if value == 0:\n",
        "            P1.append(arr[int(key[1:])])\n",
        "        elif value == 1:\n",
        "            P2.append(arr[int(key[1:])])\n",
        "    sum1 = sum(P1)\n",
        "    sum2 = sum(P2)\n",
        "    if print is not None:\n",
        "      print(P1)\n",
        "      print('Sum: ' + str(sum1))\n",
        "      print(P2)\n",
        "      print('Sum: ' + str(sum2))\n",
        "    return abs(sum1 - sum2)"
      ]
    },
    {
      "cell_type": "code",
      "execution_count": null,
      "metadata": {
        "colab": {
          "base_uri": "https://localhost:8080/"
        },
        "id": "4Tml78PTvO7Q",
        "outputId": "3973027c-6d5a-494e-d0a2-4f4e7e22e602"
      },
      "outputs": [
        {
          "output_type": "stream",
          "name": "stdout",
          "text": [
            "[29, 21, 10]\n",
            "Sum: 60\n",
            "[11, 17, 32]\n",
            "Sum: 60\n",
            "Optimization Time: 29.759641647338867\n"
          ]
        }
      ],
      "source": [
        "partition(result.variables_dict)\n",
        "print(\"Optimization Time: \" + str(elapsed_time))"
      ]
    },
    {
      "cell_type": "markdown",
      "metadata": {
        "id": "BZeWlQdhxfh0"
      },
      "source": [
        "### **Example 2 - Max-Cut Problem**"
      ]
    },
    {
      "cell_type": "code",
      "execution_count": null,
      "metadata": {
        "id": "TcNbdcu8z9Uj"
      },
      "outputs": [],
      "source": [
        "import numpy as np\n",
        "import networkx as nx\n",
        "import matplotlib.pyplot as plt"
      ]
    },
    {
      "cell_type": "code",
      "execution_count": null,
      "metadata": {
        "id": "WNRRU_gu2Dwn"
      },
      "outputs": [],
      "source": [
        "def draw_graph(G, colors, pos):\n",
        "    default_axes = plt.axes()\n",
        "    nx.draw_networkx(G, node_color=colors, node_size=600, alpha=0.8, ax=default_axes, pos=pos)\n",
        "    edge_labels = nx.get_edge_attributes(G, \"weight\")"
      ]
    },
    {
      "cell_type": "code",
      "execution_count": null,
      "metadata": {
        "colab": {
          "base_uri": "https://localhost:8080/",
          "height": 406
        },
        "id": "9AXi4EX2xdUL",
        "outputId": "2b726d16-76d0-4229-fd81-7fcb7ce41f66"
      },
      "outputs": [
        {
          "output_type": "display_data",
          "data": {
            "text/plain": [
              "<Figure size 640x480 with 1 Axes>"
            ],
            "image/png": "[encoded data removed]"
          },
          "metadata": {}
        }
      ],
      "source": [
        "# Generating a graph of 4 nodes\n",
        "\n",
        "n = 5  # Number of nodes in graph\n",
        "G = nx.Graph()\n",
        "G.add_nodes_from(np.arange(0, n, 1))\n",
        "edges = [(0, 1, 1.0), (0, 3, 1.0), (1, 2, 1.0), (2, 3, 1.0), (2, 4, 1.0), (3, 4, 1.0)]\n",
        "# tuple is (i,j,weight) where (i,j) is the edge\n",
        "G.add_weighted_edges_from(edges)\n",
        "\n",
        "colors = [\"r\" for node in G.nodes()]\n",
        "pos = nx.spring_layout(G)\n",
        "\n",
        "draw_graph(G, colors, pos)"
      ]
    },
    {
      "cell_type": "markdown",
      "source": [
        "**Max-Cut Models**\n",
        "\n",
        "Given an undirected unweighted Graph $G$ with vertex set $V$ and edge set $E$ with edges $(i, j)$ the corresponding Ising Hamiltonian is:\n",
        "\n",
        "$$H=\\sum_{(i, j) \\in E}\\frac{1-s_{i}s_{j}}{2}$$\n",
        "\n",
        "Where $s_{i} \\in \\{-1,1\\}$ is the Ising spin variable.\n",
        "\n",
        "The corresponding QUBO Model is:\n",
        "\n",
        "$$Q=\\sum_{(i, j)\\in E}(x_{i}+x_{j}-2x_{i}x_{j})$$\n",
        "\n",
        "Where $x_{i} \\in \\{0, 1\\}$ is a binary quadratic variable."
      ],
      "metadata": {
        "id": "siogyYJYLluJ"
      }
    },
    {
      "cell_type": "code",
      "execution_count": null,
      "metadata": {
        "id": "9n2_q_y73UMg"
      },
      "outputs": [],
      "source": [
        "model = Model()\n",
        "x = model.binary_var_list(n)\n",
        "H = sum(2*x[e[0]]*x[e[1]] - x[e[0]] - x[e[1]] for e in edges)\n",
        "model.minimize(H)\n",
        "problem = from_docplex_mp(model)\n",
        "qubo = QuadraticProgramToQubo().convert(problem)"
      ]
    },
    {
      "cell_type": "markdown",
      "source": [
        "**Solving the QUBO**\n",
        "\n",
        "Other than the features shared with Number Partitioning Partition, this algorithm uses the Constrained by Linear Approximation (COBYLA) optimizers. It is another gradient-free optimization algorithms offered by Qiskit-Optimization. It is similarly run for 250 iterations and is one of the most popularly used QAOA optimizers due to its tradeoff of speed and accuracy."
      ],
      "metadata": {
        "id": "rnRKa0AAf6i0"
      }
    },
    {
      "cell_type": "code",
      "execution_count": null,
      "metadata": {
        "id": "xfn-iQXw47rm"
      },
      "outputs": [],
      "source": [
        "cobyla = COBYLA(maxiter=250)\n",
        "sampler = Sampler()\n",
        "qaoa = QAOA(sampler=sampler, optimizer=cobyla, reps=2)\n",
        "algorithm = MinimumEigenOptimizer(qaoa)"
      ]
    },
    {
      "cell_type": "code",
      "execution_count": null,
      "metadata": {
        "colab": {
          "base_uri": "https://localhost:8080/"
        },
        "id": "Hd9JD3Pz5FTA",
        "outputId": "7d610a50-e5b3-44ed-d7c2-9e7851269d08"
      },
      "outputs": [
        {
          "output_type": "stream",
          "name": "stdout",
          "text": [
            "objective function value: -5.0\n",
            "variable values: x0=1.0, x1=0.0, x2=1.0, x3=0.0, x4=0.0\n",
            "status: SUCCESS\n",
            "Optimization Time: 1.9688632488250732\n"
          ]
        }
      ],
      "source": [
        "result = algorithm.solve(problem)\n",
        "print(result.prettyprint())\n",
        "elapsed_time = result.min_eigen_solver_result.optimizer_time\n",
        "print(\"Optimization Time: \" + str(elapsed_time))"
      ]
    },
    {
      "cell_type": "code",
      "execution_count": null,
      "metadata": {
        "colab": {
          "base_uri": "https://localhost:8080/",
          "height": 423
        },
        "id": "Up2_6BvC5fcG",
        "outputId": "f14736e1-b970-475f-fd41-5a1c3f0f1c28"
      },
      "outputs": [
        {
          "output_type": "stream",
          "name": "stdout",
          "text": [
            "Optimization Time: 1.9688632488250732\n"
          ]
        },
        {
          "output_type": "display_data",
          "data": {
            "text/plain": [
              "<Figure size 640x480 with 1 Axes>"
            ],
            "image/png": "[encoded data removed]"
          },
          "metadata": {}
        }
      ],
      "source": [
        "# Converting the output binary variables to produce a valid output\n",
        "colors = [\"r\" if result.variables_dict[v] == 0.0 else \"c\" for v in result.variables_dict.keys()]\n",
        "draw_graph(G, colors, pos)\n",
        "print(\"Optimization Time: \" + str(elapsed_time))"
      ]
    },
    {
      "cell_type": "markdown",
      "metadata": {
        "id": "Drm7I3wl_BXt"
      },
      "source": [
        "### **Example 3 - Minimum Vertex Cover**"
      ]
    },
    {
      "cell_type": "code",
      "execution_count": null,
      "metadata": {
        "colab": {
          "base_uri": "https://localhost:8080/",
          "height": 406
        },
        "id": "2wCxkKkF-8j4",
        "outputId": "1ded6aaf-bcb1-4a8e-8e12-613facc3cc8f"
      },
      "outputs": [
        {
          "output_type": "display_data",
          "data": {
            "text/plain": [
              "<Figure size 640x480 with 1 Axes>"
            ],
            "image/png": "[encoded data removed]"
          },
          "metadata": {}
        }
      ],
      "source": [
        "# Generating a graph of 4 nodes\n",
        "\n",
        "n = 5  # Number of nodes in graph\n",
        "G = nx.Graph()\n",
        "G.add_nodes_from(np.arange(0, n, 1))\n",
        "edges = [(0, 2, 1.0), (2, 4, 1.0), (1, 4, 1.0), (3, 4, 1.0)]\n",
        "# tuple is (i,j,weight) where (i,j) is the edge\n",
        "G.add_weighted_edges_from(edges)\n",
        "\n",
        "colors = [\"r\" for node in G.nodes()]\n",
        "pos = nx.spring_layout(G)\n",
        "\n",
        "draw_graph(G, colors, pos)"
      ]
    },
    {
      "cell_type": "markdown",
      "source": [
        "**Minimum Vertex Cover Models**\n",
        "\n",
        "Given an undirected unweighted Graph $G$ with vertex set $V$ with vertices $i$ and edge set $E$ with edges $(i, j)$ the corresponding Ising Hamiltonian is:\n",
        "\n",
        "$$H=P\\sum_{(i, j) \\in E}(1-s_{i})(1-s_{j}) + \\sum_{i \\in V}s_{i}$$\n",
        "\n",
        "Where $s_{i} \\in \\{-1,1\\}$ is the Ising spin variable and $P$ is the penalty coefficient.\n",
        "\n",
        "The corresponding QUBO Model is:\n",
        "\n",
        "$$Q=\\sum_{i \\in V}x_{i} + P(\\sum_{(i, j) \\in E}(1-x_{i}-x_{j}+x_{i}x_{j}))$$\n",
        "\n",
        "Where $x_{i} \\in \\{0, 1\\}$ is a binary quadratic variable.\n",
        "\n",
        "Note in the example $P$ was chosen through trial-and-error although there exists rigorous mathematical processes"
      ],
      "metadata": {
        "id": "oKlq91ElONOY"
      }
    },
    {
      "cell_type": "code",
      "execution_count": null,
      "metadata": {
        "id": "3EpN71xUAAbM"
      },
      "outputs": [],
      "source": [
        "model = Model()\n",
        "x = model.binary_var_list(n)\n",
        "P = 10\n",
        "H = sum(x[i] for i in range(n)) + P*sum(1 - x[e[0]] - x[e[1]] + x[e[0]]*x[e[1]] for e in edges)\n",
        "model.minimize(H)\n",
        "problem = from_docplex_mp(model)\n",
        "qubo = QuadraticProgramToQubo().convert(problem)"
      ]
    },
    {
      "cell_type": "markdown",
      "source": [
        "**Solving the QUBO**\n",
        "\n",
        "Other than the features shared with Number Partitioning Partition, this algorithm uses the Nelder optimizers. It is another gradient-free optimization algorithms offered by Qiskit-Optimization. It is great for solving nondifferentiable, nonlinear, and noisy functions by iterative evolving a simplex and is similarly run for 250 iterations."
      ],
      "metadata": {
        "id": "z-fHuHrOnG9x"
      }
    },
    {
      "cell_type": "code",
      "execution_count": null,
      "metadata": {
        "id": "3VnYU34XAmEG"
      },
      "outputs": [],
      "source": [
        "nelder_mead = NELDER_MEAD(maxiter=250)\n",
        "sampler = Sampler()\n",
        "qaoa = QAOA(sampler=sampler, optimizer=nelder_mead, reps=2)\n",
        "algorithm = MinimumEigenOptimizer(qaoa)"
      ]
    },
    {
      "cell_type": "code",
      "execution_count": null,
      "metadata": {
        "colab": {
          "base_uri": "https://localhost:8080/"
        },
        "id": "HM1IZ9w0DcAW",
        "outputId": "55424024-81d8-4d04-cb33-6f9d41c8ad64"
      },
      "outputs": [
        {
          "output_type": "stream",
          "name": "stdout",
          "text": [
            "objective function value: 2.0\n",
            "variable values: x0=1.0, x1=0.0, x2=0.0, x3=0.0, x4=1.0\n",
            "status: SUCCESS\n",
            "Optimization Time: 3.1334011554718018\n"
          ]
        }
      ],
      "source": [
        "result = algorithm.solve(problem)\n",
        "print(result.prettyprint())\n",
        "elapsed_time = result.min_eigen_solver_result.optimizer_time\n",
        "print(\"Optimization Time: \" + str(elapsed_time))"
      ]
    },
    {
      "cell_type": "code",
      "execution_count": null,
      "metadata": {
        "colab": {
          "base_uri": "https://localhost:8080/",
          "height": 423
        },
        "id": "9J50T45QFliL",
        "outputId": "aa079f2b-2953-4667-eb5d-18a5c39db493"
      },
      "outputs": [
        {
          "output_type": "stream",
          "name": "stdout",
          "text": [
            "Execution Time: 3.1334011554718018\n"
          ]
        },
        {
          "output_type": "display_data",
          "data": {
            "text/plain": [
              "<Figure size 640x480 with 1 Axes>"
            ],
            "image/png": "[encoded data removed]"
          },
          "metadata": {}
        }
      ],
      "source": [
        "# Converting the output binary variables to produce a valid output\n",
        "colors = [\"r\" if result.variables_dict[v] == 0.0 else \"c\" for v in result.variables_dict.keys()]\n",
        "draw_graph(G, colors, pos)\n",
        "print(\"Execution Time: \" + str(elapsed_time))"
      ]
    }
  ],
  "metadata": {
    "colab": {
      "provenance": []
    },
    "kernelspec": {
      "display_name": "Python 3",
      "name": "python3"
    },
    "language_info": {
      "name": "python"
    }
  },
  "nbformat": 4,
  "nbformat_minor": 0
}